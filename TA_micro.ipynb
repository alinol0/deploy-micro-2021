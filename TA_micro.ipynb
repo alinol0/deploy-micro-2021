{
 "cells": [
  {
   "cell_type": "code",
   "execution_count": 2,
   "metadata": {
    "id": "y4EQvvlJS7pC"
   },
   "outputs": [],
   "source": [
    "import pandas as pd\n",
    "import numpy as np"
   ]
  },
  {
   "cell_type": "code",
   "execution_count": 3,
   "metadata": {
    "id": "6lVT6Bgbzsvk"
   },
   "outputs": [],
   "source": [
    "data = pd.read_csv('jumlah_kendaraan_bermotor.csv')"
   ]
  },
  {
   "cell_type": "code",
   "execution_count": 4,
   "metadata": {
    "colab": {
     "base_uri": "https://localhost:8080/",
     "height": 297
    },
    "id": "ixTVcF2Iz9I2",
    "outputId": "85f4eef6-ad9e-41f4-d8c8-ed58d3608ade"
   },
   "outputs": [
    {
     "data": {
      "text/html": [
       "<div>\n",
       "<style scoped>\n",
       "    .dataframe tbody tr th:only-of-type {\n",
       "        vertical-align: middle;\n",
       "    }\n",
       "\n",
       "    .dataframe tbody tr th {\n",
       "        vertical-align: top;\n",
       "    }\n",
       "\n",
       "    .dataframe thead th {\n",
       "        text-align: right;\n",
       "    }\n",
       "</style>\n",
       "<table border=\"1\" class=\"dataframe\">\n",
       "  <thead>\n",
       "    <tr style=\"text-align: right;\">\n",
       "      <th></th>\n",
       "      <th>id</th>\n",
       "      <th>kode_provinsi</th>\n",
       "      <th>nama_provinsi</th>\n",
       "      <th>kode_kabupaten_kota</th>\n",
       "      <th>nama_kabupaten_kota</th>\n",
       "      <th>cabang_pelayanan</th>\n",
       "      <th>jumlah_kendaraan</th>\n",
       "      <th>satuan</th>\n",
       "      <th>tahun</th>\n",
       "    </tr>\n",
       "  </thead>\n",
       "  <tbody>\n",
       "    <tr>\n",
       "      <th>63</th>\n",
       "      <td>64</td>\n",
       "      <td>32</td>\n",
       "      <td>JAWA BARAT</td>\n",
       "      <td>3276</td>\n",
       "      <td>KOTA DEPOK</td>\n",
       "      <td>KOTA DEPOK I</td>\n",
       "      <td>440241</td>\n",
       "      <td>UNIT</td>\n",
       "      <td>2014</td>\n",
       "    </tr>\n",
       "    <tr>\n",
       "      <th>78</th>\n",
       "      <td>79</td>\n",
       "      <td>32</td>\n",
       "      <td>JAWA BARAT</td>\n",
       "      <td>3208</td>\n",
       "      <td>KABUPATEN KUNINGAN</td>\n",
       "      <td>KABUPATEN KUNINGAN</td>\n",
       "      <td>207374</td>\n",
       "      <td>UNIT</td>\n",
       "      <td>2015</td>\n",
       "    </tr>\n",
       "    <tr>\n",
       "      <th>231</th>\n",
       "      <td>232</td>\n",
       "      <td>32</td>\n",
       "      <td>JAWA BARAT</td>\n",
       "      <td>3274</td>\n",
       "      <td>KOTA CIREBON</td>\n",
       "      <td>KOTA CIREBON</td>\n",
       "      <td>189435</td>\n",
       "      <td>UNIT</td>\n",
       "      <td>2019</td>\n",
       "    </tr>\n",
       "    <tr>\n",
       "      <th>119</th>\n",
       "      <td>120</td>\n",
       "      <td>32</td>\n",
       "      <td>JAWA BARAT</td>\n",
       "      <td>3213</td>\n",
       "      <td>KABUPATEN SUBANG</td>\n",
       "      <td>KABUPATEN SUBANG</td>\n",
       "      <td>243474</td>\n",
       "      <td>UNIT</td>\n",
       "      <td>2016</td>\n",
       "    </tr>\n",
       "    <tr>\n",
       "      <th>207</th>\n",
       "      <td>208</td>\n",
       "      <td>32</td>\n",
       "      <td>JAWA BARAT</td>\n",
       "      <td>3203</td>\n",
       "      <td>KABUPATEN CIANJUR</td>\n",
       "      <td>KABUPATEN CIANJUR</td>\n",
       "      <td>465861</td>\n",
       "      <td>UNIT</td>\n",
       "      <td>2019</td>\n",
       "    </tr>\n",
       "    <tr>\n",
       "      <th>96</th>\n",
       "      <td>97</td>\n",
       "      <td>32</td>\n",
       "      <td>JAWA BARAT</td>\n",
       "      <td>3275</td>\n",
       "      <td>KOTA BEKASI</td>\n",
       "      <td>KOTA BEKASI</td>\n",
       "      <td>947892</td>\n",
       "      <td>UNIT</td>\n",
       "      <td>2015</td>\n",
       "    </tr>\n",
       "    <tr>\n",
       "      <th>114</th>\n",
       "      <td>115</td>\n",
       "      <td>32</td>\n",
       "      <td>JAWA BARAT</td>\n",
       "      <td>3209</td>\n",
       "      <td>KABUPATEN CIREBON</td>\n",
       "      <td>KABUPATEN CIREBON II CLDG</td>\n",
       "      <td>144764</td>\n",
       "      <td>UNIT</td>\n",
       "      <td>2016</td>\n",
       "    </tr>\n",
       "    <tr>\n",
       "      <th>115</th>\n",
       "      <td>116</td>\n",
       "      <td>32</td>\n",
       "      <td>JAWA BARAT</td>\n",
       "      <td>3210</td>\n",
       "      <td>KABUPATEN MAJALENGKA</td>\n",
       "      <td>KABUPATEN MAJALENGKA</td>\n",
       "      <td>247004</td>\n",
       "      <td>UNIT</td>\n",
       "      <td>2016</td>\n",
       "    </tr>\n",
       "  </tbody>\n",
       "</table>\n",
       "</div>"
      ],
      "text/plain": [
       "      id  kode_provinsi nama_provinsi  kode_kabupaten_kota  \\\n",
       "63    64             32    JAWA BARAT                 3276   \n",
       "78    79             32    JAWA BARAT                 3208   \n",
       "231  232             32    JAWA BARAT                 3274   \n",
       "119  120             32    JAWA BARAT                 3213   \n",
       "207  208             32    JAWA BARAT                 3203   \n",
       "96    97             32    JAWA BARAT                 3275   \n",
       "114  115             32    JAWA BARAT                 3209   \n",
       "115  116             32    JAWA BARAT                 3210   \n",
       "\n",
       "      nama_kabupaten_kota           cabang_pelayanan  jumlah_kendaraan satuan  \\\n",
       "63             KOTA DEPOK               KOTA DEPOK I            440241   UNIT   \n",
       "78     KABUPATEN KUNINGAN         KABUPATEN KUNINGAN            207374   UNIT   \n",
       "231          KOTA CIREBON               KOTA CIREBON            189435   UNIT   \n",
       "119      KABUPATEN SUBANG           KABUPATEN SUBANG            243474   UNIT   \n",
       "207     KABUPATEN CIANJUR          KABUPATEN CIANJUR            465861   UNIT   \n",
       "96            KOTA BEKASI                KOTA BEKASI            947892   UNIT   \n",
       "114     KABUPATEN CIREBON  KABUPATEN CIREBON II CLDG            144764   UNIT   \n",
       "115  KABUPATEN MAJALENGKA       KABUPATEN MAJALENGKA            247004   UNIT   \n",
       "\n",
       "     tahun  \n",
       "63    2014  \n",
       "78    2015  \n",
       "231   2019  \n",
       "119   2016  \n",
       "207   2019  \n",
       "96    2015  \n",
       "114   2016  \n",
       "115   2016  "
      ]
     },
     "execution_count": 4,
     "metadata": {},
     "output_type": "execute_result"
    }
   ],
   "source": [
    "data.sample(8)"
   ]
  },
  {
   "cell_type": "code",
   "execution_count": 5,
   "metadata": {
    "colab": {
     "base_uri": "https://localhost:8080/"
    },
    "id": "hUEIWN5m0B-U",
    "outputId": "e7fa6a83-6c84-45d3-f89d-5bc827418093"
   },
   "outputs": [
    {
     "name": "stdout",
     "output_type": "stream",
     "text": [
      "<class 'pandas.core.frame.DataFrame'>\n",
      "RangeIndex: 272 entries, 0 to 271\n",
      "Data columns (total 9 columns):\n",
      " #   Column               Non-Null Count  Dtype \n",
      "---  ------               --------------  ----- \n",
      " 0   id                   272 non-null    int64 \n",
      " 1   kode_provinsi        272 non-null    int64 \n",
      " 2   nama_provinsi        272 non-null    object\n",
      " 3   kode_kabupaten_kota  272 non-null    int64 \n",
      " 4   nama_kabupaten_kota  272 non-null    object\n",
      " 5   cabang_pelayanan     272 non-null    object\n",
      " 6   jumlah_kendaraan     272 non-null    int64 \n",
      " 7   satuan               272 non-null    object\n",
      " 8   tahun                272 non-null    int64 \n",
      "dtypes: int64(5), object(4)\n",
      "memory usage: 19.2+ KB\n"
     ]
    }
   ],
   "source": [
    "data.info()"
   ]
  },
  {
   "cell_type": "code",
   "execution_count": 6,
   "metadata": {
    "id": "rLj8XT11DNGq"
   },
   "outputs": [],
   "source": [
    "data['tahun'] = data['tahun'].astype(str)"
   ]
  },
  {
   "cell_type": "code",
   "execution_count": 7,
   "metadata": {
    "colab": {
     "base_uri": "https://localhost:8080/"
    },
    "id": "qjh7McdM7ijm",
    "outputId": "b8ab371d-d4dd-42f4-c878-3d84dfbdee2f"
   },
   "outputs": [
    {
     "data": {
      "text/plain": [
       "array(['2013', '2014', '2015', '2016', '2017', '2018', '2019', '2020'],\n",
       "      dtype=object)"
      ]
     },
     "execution_count": 7,
     "metadata": {},
     "output_type": "execute_result"
    }
   ],
   "source": [
    "data['tahun'].unique()"
   ]
  },
  {
   "cell_type": "code",
   "execution_count": 8,
   "metadata": {
    "colab": {
     "base_uri": "https://localhost:8080/"
    },
    "id": "nSX9BqCcCw5E",
    "outputId": "c8d27bfc-089c-4949-85f3-87d0843e84df"
   },
   "outputs": [
    {
     "data": {
      "text/plain": [
       "array([0, 1, 2, 3, 4, 5, 6, 7])"
      ]
     },
     "execution_count": 8,
     "metadata": {},
     "output_type": "execute_result"
    }
   ],
   "source": [
    "from sklearn.preprocessing import LabelEncoder\n",
    "LE_tahun = LabelEncoder()\n",
    "data['tahun'] = LE_tahun.fit_transform(data['tahun'])\n",
    "data['tahun'].unique()"
   ]
  },
  {
   "cell_type": "code",
   "execution_count": 9,
   "metadata": {
    "colab": {
     "base_uri": "https://localhost:8080/"
    },
    "id": "xHOPChe1irAW",
    "outputId": "c8ffd761-2e66-451b-a6ef-b507c9fceb7a"
   },
   "outputs": [
    {
     "data": {
      "text/plain": [
       "array(['KABUPATEN BOGOR', 'KABUPATEN SUKABUMI', 'KABUPATEN CIANJUR',\n",
       "       'KABUPATEN BANDUNG', 'KABUPATEN GARUT', 'KABUPATEN TASIKMALAYA',\n",
       "       'KABUPATEN CIAMIS', 'KABUPATEN KUNINGAN', 'KABUPATEN CIREBON',\n",
       "       'KABUPATEN MAJALENGKA', 'KABUPATEN SUMEDANG',\n",
       "       'KABUPATEN INDRAMAYU', 'KABUPATEN SUBANG', 'KABUPATEN PURWAKARTA',\n",
       "       'KABUPATEN KARAWANG', 'KABUPATEN BEKASI',\n",
       "       'KABUPATEN BANDUNG BARAT', 'KOTA BOGOR', 'KOTA SUKABUMI',\n",
       "       'KOTA BANDUNG', 'KOTA CIREBON', 'KOTA BEKASI', 'KOTA DEPOK',\n",
       "       'KOTA CIMAHI', 'KOTA TASIKMALAYA', 'KOTA BANJAR',\n",
       "       'KABUPATEN PANGANDARAN'], dtype=object)"
      ]
     },
     "execution_count": 9,
     "metadata": {},
     "output_type": "execute_result"
    }
   ],
   "source": [
    "data['nama_kabupaten_kota'].unique()"
   ]
  },
  {
   "cell_type": "code",
   "execution_count": 10,
   "metadata": {
    "colab": {
     "base_uri": "https://localhost:8080/"
    },
    "id": "wBBtESz2Dg93",
    "outputId": "921cd253-bba4-4dec-d9b1-fe9727540acb"
   },
   "outputs": [
    {
     "data": {
      "text/plain": [
       "array([ 3, 15,  5,  0,  7, 17,  4, 10,  6, 11, 16,  8, 14, 13,  9,  2,  1,\n",
       "       21, 25, 18, 23, 20, 24, 22, 26, 19, 12])"
      ]
     },
     "execution_count": 10,
     "metadata": {},
     "output_type": "execute_result"
    }
   ],
   "source": [
    "LE_kabupaten = LabelEncoder()\n",
    "data['nama_kabupaten_kota'] = LE_kabupaten.fit_transform(data['nama_kabupaten_kota'])\n",
    "data['nama_kabupaten_kota'].unique()"
   ]
  },
  {
   "cell_type": "code",
   "execution_count": 11,
   "metadata": {
    "id": "4mOq6CSh0R0x"
   },
   "outputs": [],
   "source": [
    "x = data[['nama_kabupaten_kota','tahun']]\n",
    "y = data['jumlah_kendaraan']"
   ]
  },
  {
   "cell_type": "code",
   "execution_count": 12,
   "metadata": {
    "colab": {
     "base_uri": "https://localhost:8080/"
    },
    "id": "Td_85XaYEn6m",
    "outputId": "d161c8c6-2e36-4b2e-f553-e22564d6f430"
   },
   "outputs": [
    {
     "data": {
      "text/plain": [
       "LinearRegression()"
      ]
     },
     "execution_count": 12,
     "metadata": {},
     "output_type": "execute_result"
    }
   ],
   "source": [
    "from sklearn.linear_model import LinearRegression\n",
    "linreg = LinearRegression()\n",
    "linreg.fit(x,y)"
   ]
  },
  {
   "cell_type": "code",
   "execution_count": 13,
   "metadata": {
    "id": "QSy5_dTTbCRk"
   },
   "outputs": [],
   "source": [
    "y_pred = linreg.predict(x)"
   ]
  },
  {
   "cell_type": "code",
   "execution_count": 14,
   "metadata": {
    "id": "IRaHJGjkbQKk"
   },
   "outputs": [],
   "source": [
    "from sklearn.metrics import mean_squared_error, mean_absolute_error\n",
    "import numpy as np\n",
    "error = np.sqrt(mean_squared_error(y, y_pred))"
   ]
  },
  {
   "cell_type": "code",
   "execution_count": 15,
   "metadata": {
    "colab": {
     "base_uri": "https://localhost:8080/"
    },
    "id": "SksRTWJVbSki",
    "outputId": "0eff1650-f310-44ab-faa6-698a1ffadb1c"
   },
   "outputs": [
    {
     "data": {
      "text/plain": [
       "277732.7730310014"
      ]
     },
     "execution_count": 15,
     "metadata": {},
     "output_type": "execute_result"
    }
   ],
   "source": [
    "error"
   ]
  },
  {
   "cell_type": "code",
   "execution_count": 16,
   "metadata": {
    "colab": {
     "base_uri": "https://localhost:8080/"
    },
    "id": "rTsDPJ7ibWvk",
    "outputId": "b1bc43cd-c7aa-4771-b808-119fc7a39c07"
   },
   "outputs": [
    {
     "data": {
      "text/plain": [
       "DecisionTreeRegressor(random_state=0)"
      ]
     },
     "execution_count": 16,
     "metadata": {},
     "output_type": "execute_result"
    }
   ],
   "source": [
    "from sklearn.tree import DecisionTreeRegressor\n",
    "DTR = DecisionTreeRegressor(random_state=0)\n",
    "DTR.fit(x, y)"
   ]
  },
  {
   "cell_type": "code",
   "execution_count": 17,
   "metadata": {
    "id": "mz9FCkhlbnLs"
   },
   "outputs": [],
   "source": [
    "y_pred = DTR.predict(x)"
   ]
  },
  {
   "cell_type": "code",
   "execution_count": 18,
   "metadata": {
    "colab": {
     "base_uri": "https://localhost:8080/"
    },
    "id": "3r-kusADbtws",
    "outputId": "d4de5ec5-1f1f-490f-eca5-46802f59d8f3"
   },
   "outputs": [
    {
     "name": "stdout",
     "output_type": "stream",
     "text": [
      "prediksi jumlah kendaraan : 47,418.27\n"
     ]
    }
   ],
   "source": [
    "error = np.sqrt(mean_squared_error(y, y_pred))\n",
    "print(\"prediksi jumlah kendaraan : {:,.02f}\".format(error))"
   ]
  },
  {
   "cell_type": "code",
   "execution_count": 19,
   "metadata": {
    "colab": {
     "base_uri": "https://localhost:8080/"
    },
    "id": "dZzHNiwlcFg6",
    "outputId": "494c696e-6b15-4f0c-8a61-296b252b9bfe"
   },
   "outputs": [
    {
     "data": {
      "text/plain": [
       "RandomForestRegressor(random_state=0)"
      ]
     },
     "execution_count": 19,
     "metadata": {},
     "output_type": "execute_result"
    }
   ],
   "source": [
    "from sklearn.ensemble import RandomForestRegressor\n",
    "RFR = RandomForestRegressor(random_state=0)\n",
    "RFR.fit(x, y)"
   ]
  },
  {
   "cell_type": "code",
   "execution_count": 20,
   "metadata": {
    "id": "nmi2qwTmcnqR"
   },
   "outputs": [],
   "source": [
    "y_pred = RFR.predict(x)"
   ]
  },
  {
   "cell_type": "code",
   "execution_count": 21,
   "metadata": {
    "colab": {
     "base_uri": "https://localhost:8080/"
    },
    "id": "irLNiv0_c3RY",
    "outputId": "9256c1b0-bffb-4bd9-fc82-8fcd5eb259cf"
   },
   "outputs": [
    {
     "name": "stdout",
     "output_type": "stream",
     "text": [
      "prediksi jumlah kendaraan : 59,683.67\n"
     ]
    }
   ],
   "source": [
    "error = np.sqrt(mean_squared_error(y, y_pred))\n",
    "print(\"prediksi jumlah kendaraan : {:,.02f}\".format(error))"
   ]
  },
  {
   "cell_type": "code",
   "execution_count": 22,
   "metadata": {
    "colab": {
     "base_uri": "https://localhost:8080/"
    },
    "id": "Rl5pcwSAc_zO",
    "outputId": "1c420b77-fbe0-4ee0-8e41-8febdb14aa7d"
   },
   "outputs": [
    {
     "data": {
      "text/plain": [
       "GridSearchCV(estimator=DecisionTreeRegressor(random_state=0),\n",
       "             param_grid={'max_depth': [None, 2, 4, 6, 8, 10, 12]},\n",
       "             scoring='neg_mean_squared_error')"
      ]
     },
     "execution_count": 22,
     "metadata": {},
     "output_type": "execute_result"
    }
   ],
   "source": [
    "from sklearn.model_selection import GridSearchCV\n",
    "\n",
    "max_depth = [None, 2,4,6,8,10,12]\n",
    "parameters = {\"max_depth\": max_depth}\n",
    "\n",
    "regressor = DecisionTreeRegressor(random_state=0)\n",
    "gs = GridSearchCV(regressor, parameters, scoring='neg_mean_squared_error')\n",
    "gs.fit(x, y)"
   ]
  },
  {
   "cell_type": "code",
   "execution_count": 23,
   "metadata": {
    "colab": {
     "base_uri": "https://localhost:8080/"
    },
    "id": "3Kz1i-CYdXk7",
    "outputId": "72361edd-3f7c-4a83-c65c-f853938f3a9e"
   },
   "outputs": [
    {
     "name": "stdout",
     "output_type": "stream",
     "text": [
      "prediksi jumlah kendaraan : 47,418.27\n"
     ]
    }
   ],
   "source": [
    "regressor = gs.best_estimator_\n",
    "\n",
    "regressor.fit(x, y)\n",
    "y_pred = regressor.predict(x)\n",
    "error = np.sqrt(mean_squared_error(y, y_pred))\n",
    "print(\"prediksi jumlah kendaraan : {:,.02f}\".format(error))"
   ]
  },
  {
   "cell_type": "code",
   "execution_count": 24,
   "metadata": {
    "colab": {
     "base_uri": "https://localhost:8080/",
     "height": 419
    },
    "id": "dNCQ9_MWdkm1",
    "outputId": "80c1740d-bd62-44cb-f97e-2edc5730f0c6"
   },
   "outputs": [
    {
     "data": {
      "text/html": [
       "<div>\n",
       "<style scoped>\n",
       "    .dataframe tbody tr th:only-of-type {\n",
       "        vertical-align: middle;\n",
       "    }\n",
       "\n",
       "    .dataframe tbody tr th {\n",
       "        vertical-align: top;\n",
       "    }\n",
       "\n",
       "    .dataframe thead th {\n",
       "        text-align: right;\n",
       "    }\n",
       "</style>\n",
       "<table border=\"1\" class=\"dataframe\">\n",
       "  <thead>\n",
       "    <tr style=\"text-align: right;\">\n",
       "      <th></th>\n",
       "      <th>nama_kabupaten_kota</th>\n",
       "      <th>tahun</th>\n",
       "    </tr>\n",
       "  </thead>\n",
       "  <tbody>\n",
       "    <tr>\n",
       "      <th>0</th>\n",
       "      <td>3</td>\n",
       "      <td>0</td>\n",
       "    </tr>\n",
       "    <tr>\n",
       "      <th>1</th>\n",
       "      <td>15</td>\n",
       "      <td>0</td>\n",
       "    </tr>\n",
       "    <tr>\n",
       "      <th>2</th>\n",
       "      <td>15</td>\n",
       "      <td>0</td>\n",
       "    </tr>\n",
       "    <tr>\n",
       "      <th>3</th>\n",
       "      <td>5</td>\n",
       "      <td>0</td>\n",
       "    </tr>\n",
       "    <tr>\n",
       "      <th>4</th>\n",
       "      <td>0</td>\n",
       "      <td>0</td>\n",
       "    </tr>\n",
       "    <tr>\n",
       "      <th>...</th>\n",
       "      <td>...</td>\n",
       "      <td>...</td>\n",
       "    </tr>\n",
       "    <tr>\n",
       "      <th>267</th>\n",
       "      <td>24</td>\n",
       "      <td>7</td>\n",
       "    </tr>\n",
       "    <tr>\n",
       "      <th>268</th>\n",
       "      <td>24</td>\n",
       "      <td>7</td>\n",
       "    </tr>\n",
       "    <tr>\n",
       "      <th>269</th>\n",
       "      <td>22</td>\n",
       "      <td>7</td>\n",
       "    </tr>\n",
       "    <tr>\n",
       "      <th>270</th>\n",
       "      <td>26</td>\n",
       "      <td>7</td>\n",
       "    </tr>\n",
       "    <tr>\n",
       "      <th>271</th>\n",
       "      <td>19</td>\n",
       "      <td>7</td>\n",
       "    </tr>\n",
       "  </tbody>\n",
       "</table>\n",
       "<p>272 rows × 2 columns</p>\n",
       "</div>"
      ],
      "text/plain": [
       "     nama_kabupaten_kota  tahun\n",
       "0                      3      0\n",
       "1                     15      0\n",
       "2                     15      0\n",
       "3                      5      0\n",
       "4                      0      0\n",
       "..                   ...    ...\n",
       "267                   24      7\n",
       "268                   24      7\n",
       "269                   22      7\n",
       "270                   26      7\n",
       "271                   19      7\n",
       "\n",
       "[272 rows x 2 columns]"
      ]
     },
     "execution_count": 24,
     "metadata": {},
     "output_type": "execute_result"
    }
   ],
   "source": [
    "x"
   ]
  },
  {
   "cell_type": "code",
   "execution_count": 25,
   "metadata": {
    "colab": {
     "base_uri": "https://localhost:8080/"
    },
    "id": "XLZ-R2d2dsrw",
    "outputId": "32d8b9d4-3cf6-4457-b480-9bfd86224078"
   },
   "outputs": [
    {
     "data": {
      "text/plain": [
       "array([['KABUPATEN BOGOR', '2018']], dtype='<U15')"
      ]
     },
     "execution_count": 25,
     "metadata": {},
     "output_type": "execute_result"
    }
   ],
   "source": [
    "x = np.array([['KABUPATEN BOGOR','2018']])\n",
    "x"
   ]
  },
  {
   "cell_type": "code",
   "execution_count": 26,
   "metadata": {
    "colab": {
     "base_uri": "https://localhost:8080/"
    },
    "id": "0i3z2zR9Dtm_",
    "outputId": "f4acc565-d22e-4db5-b08e-bbddea06e161"
   },
   "outputs": [
    {
     "data": {
      "text/plain": [
       "array([[3., 5.]])"
      ]
     },
     "execution_count": 26,
     "metadata": {},
     "output_type": "execute_result"
    }
   ],
   "source": [
    "x[:, 0] = LE_kabupaten.transform(x[:,0])\n",
    "x[:, 1] = LE_tahun.transform(x[:,1])\n",
    "x = x.astype(float)\n",
    "x"
   ]
  },
  {
   "cell_type": "code",
   "execution_count": 27,
   "metadata": {
    "colab": {
     "base_uri": "https://localhost:8080/"
    },
    "id": "051ge4mug2vU",
    "outputId": "f5680dad-0573-4b2a-bcc5-648d9f22145c"
   },
   "outputs": [
    {
     "data": {
      "text/plain": [
       "array([93088.])"
      ]
     },
     "execution_count": 27,
     "metadata": {},
     "output_type": "execute_result"
    }
   ],
   "source": [
    "y_pred = regressor.predict(x)\n",
    "y_pred"
   ]
  },
  {
   "cell_type": "code",
   "execution_count": 28,
   "metadata": {
    "id": "aHwU7wlbj41C"
   },
   "outputs": [],
   "source": [
    "import pickle"
   ]
  },
  {
   "cell_type": "code",
   "execution_count": 29,
   "metadata": {
    "id": "aPL1GhQUj-Dw"
   },
   "outputs": [],
   "source": [
    "datas = {\"model\": regressor, \"nama_kabupaten_kota\": LE_kabupaten, \"tahun\": LE_tahun}\n",
    "with open('saved_steps.pkl', 'wb') as file:\n",
    "    pickle.dump(datas, file)"
   ]
  },
  {
   "cell_type": "code",
   "execution_count": 30,
   "metadata": {
    "id": "LSFeeZVYkBY2"
   },
   "outputs": [],
   "source": [
    "with open('saved_steps.pkl', 'rb') as file:\n",
    "    datas = pickle.load(file)\n",
    "\n",
    "regressor_loaded = datas[\"model\"]\n",
    "LE_kabupaten = datas[\"nama_kabupaten_kota\"]\n",
    "LE_tahun = datas[\"tahun\"]"
   ]
  },
  {
   "cell_type": "code",
   "execution_count": 31,
   "metadata": {
    "colab": {
     "base_uri": "https://localhost:8080/"
    },
    "id": "Uj5-kBzzkDfy",
    "outputId": "c41da249-0b12-4825-f84d-917c70676a17"
   },
   "outputs": [
    {
     "data": {
      "text/plain": [
       "array([93088.])"
      ]
     },
     "execution_count": 31,
     "metadata": {},
     "output_type": "execute_result"
    }
   ],
   "source": [
    "y_pred = regressor_loaded.predict(x)\n",
    "y_pred"
   ]
  }
 ],
 "metadata": {
  "colab": {
   "collapsed_sections": [],
   "name": "Untitled0.ipynb",
   "provenance": []
  },
  "kernelspec": {
   "display_name": "Python 3 (ipykernel)",
   "language": "python",
   "name": "python3"
  },
  "language_info": {
   "codemirror_mode": {
    "name": "ipython",
    "version": 3
   },
   "file_extension": ".py",
   "mimetype": "text/x-python",
   "name": "python",
   "nbconvert_exporter": "python",
   "pygments_lexer": "ipython3",
   "version": "3.9.7"
  }
 },
 "nbformat": 4,
 "nbformat_minor": 1
}
